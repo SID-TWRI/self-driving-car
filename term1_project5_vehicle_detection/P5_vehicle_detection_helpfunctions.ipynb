{
 "cells": [
  {
   "cell_type": "markdown",
   "metadata": {
    "deletable": true,
    "editable": true
   },
   "source": [
    "# Image augmentation and generation"
   ]
  },
  {
   "cell_type": "code",
   "execution_count": null,
   "metadata": {
    "collapsed": true,
    "deletable": true,
    "editable": true
   },
   "outputs": [],
   "source": [
    "#importing some useful packages\n",
    "import matplotlib.pyplot as plt\n",
    "import matplotlib.image as mpimg\n",
    "import numpy as np\n",
    "import cv2\n",
    "import pickle\n",
    "import glob\n",
    "import random\n",
    "from scipy import ndimage\n",
    "from scipy.ndimage import zoom\n",
    "import os\n",
    "\n",
    "%matplotlib inline\n"
   ]
  },
  {
   "cell_type": "code",
   "execution_count": null,
   "metadata": {
    "collapsed": false,
    "deletable": true,
    "editable": true
   },
   "outputs": [],
   "source": [
    "#data manipulation and add augmented data\n",
    "def img_rot(image):\n",
    "    rows,cols,ch = image.shape \n",
    "    center = (rows/2, cols/2)\n",
    "    fact = random.randint(-1,1)\n",
    "    return cv2.warpAffine(image, cv2.getRotationMatrix2D(center, fact*5, 1), (rows, cols))\n",
    "\n",
    "def img_shift(image):\n",
    "    rows,cols,ch = image.shape \n",
    "    fact1 = random.randint(-10,10)\n",
    "    fact2 = random.randint(-10,10)\n",
    "    return ndimage.shift(image,[fact1,fact2,0])\n",
    "\n",
    "def clipped_zoom(img, zoom_factor, **kwargs): # from stackoverflow ali_m\n",
    "\n",
    "    h, w = img.shape[:2]\n",
    "\n",
    "    # width and height of the zoomed image\n",
    "    zh = int(np.round(zoom_factor * h))\n",
    "    zw = int(np.round(zoom_factor * w))\n",
    "\n",
    "    # for multichannel images we don't want to apply the zoom factor to the RGB\n",
    "    # dimension, so instead we create a tuple of zoom factors, one per array\n",
    "    # dimension, with 1's for any trailing dimensions after the width and height.\n",
    "    zoom_tuple = (zoom_factor,) * 2 + (1,) * (img.ndim - 2)\n",
    "\n",
    "    # zooming out\n",
    "    if zoom_factor < 1:\n",
    "        # bounding box of the clip region within the output array\n",
    "        top = (h - zh) // 2\n",
    "        left = (w - zw) // 2\n",
    "        # zero-padding\n",
    "        out = np.zeros_like(img)\n",
    "        out[top:top+zh, left:left+zw] = zoom(img, zoom_tuple, **kwargs)\n",
    "\n",
    "    # zooming in\n",
    "    elif zoom_factor > 1:\n",
    "        # bounding box of the clip region within the input array\n",
    "        top = (zh - h) // 2\n",
    "        left = (zw - w) // 2\n",
    "        out = zoom(img[top:top+zh, left:left+zw], zoom_tuple, **kwargs)\n",
    "        # `out` might still be slightly larger than `img` due to rounding, so\n",
    "        # trim off any extra pixels at the edges\n",
    "        trim_top = ((out.shape[0] - h) // 2)\n",
    "        trim_left = ((out.shape[1] - w) // 2)\n",
    "        out = out[trim_top:trim_top+h, trim_left:trim_left+w]\n",
    "\n",
    "    # if zoom_factor == 1, just return the input array\n",
    "    else:\n",
    "        out = img\n",
    "    return out\n",
    "\n",
    "def img_zoom(image):     \n",
    "    zoom_f = float(0.85 + (random.randint(0,3)/10))\n",
    "    return clipped_zoom(image, zoom_f) \n",
    "\n",
    "def img_shear(image):\n",
    "    rows,cols,ch = image.shape\n",
    "    shear_fact = random.randint(5,15)\n",
    "    # Shear\n",
    "    scr = np.float32([[5,5],[20,5],[5,20]])\n",
    "\n",
    "    p_dst1 = 5+shear_fact*np.random.uniform()-shear_fact/2\n",
    "    p_dst2 = 20+shear_fact*np.random.uniform()-shear_fact/2\n",
    "\n",
    "    dst = np.float32([[p_dst1,5],[p_dst2,p_dst1],[5,p_dst2]])\n",
    "\n",
    "    return cv2.warpAffine(image,cv2.getAffineTransform(scr,dst),(cols,rows))\n",
    "###################################################################################################\n"
   ]
  },
  {
   "cell_type": "code",
   "execution_count": null,
   "metadata": {
    "collapsed": false,
    "deletable": true,
    "editable": true
   },
   "outputs": [],
   "source": [
    "# Read in cars and notcars\n",
    "#    images = glob.glob('data_base/*.jpeg')\n",
    "images = glob.glob('data_base_long/*.png')\n",
    "cars = []\n",
    "notcars = []\n",
    "for image in images:\n",
    "    if 'image' in image or 'extra' in image:\n",
    "        notcars.append(image)\n",
    "    else:\n",
    "        cars.append(image)\n",
    "\n",
    "print('notcars: ', len(notcars))\n",
    "print('cars: ', len(cars))\n",
    "count_car = 1\n",
    "count_notcar = 1\n",
    "for file in cars:\n",
    "    # Read in each one by one\n",
    "#        image = mpimg.imread(file)# for jpg,    png file 0-1, jpg file 0-255\n",
    "    image = cv2.imread(file)# for png,    png file 0-255\n",
    "    for k in range(4):\n",
    "        if k == 0:\n",
    "            aug_img = img_rot(image)\n",
    "        elif k == 1:\n",
    "            aug_img = img_shift(image)\n",
    "        elif k == 2:\n",
    "            aug_img = img_zoom(image)\n",
    "        elif k == 3:\n",
    "            aug_img = img_shear(image)\n",
    "        f_name = 'car__0' + str(count_car) + '.png'\n",
    "        daf_name = 'data_aug_01/' + f_name\n",
    "        cv2.imwrite(daf_name,aug_img)\n",
    "        count_car +=1\n",
    "\n",
    "for file in notcars:\n",
    "    # Read in each one by one\n",
    "#        image = mpimg.imread(file)# for jpg,    png file 0-1, jpg file 0-255\n",
    "    image = cv2.imread(file)# for png,    png file 0-255\n",
    "    for k in range(4):\n",
    "        if k == 0:\n",
    "            aug_img = img_rot(image)\n",
    "        elif k == 1:\n",
    "            aug_img = img_shift(image)\n",
    "        elif k == 2:\n",
    "            aug_img = img_zoom(image)\n",
    "        elif k == 3:\n",
    "            aug_img = img_shear(image)\n",
    "        f_name = 'image__0' + str(count_notcar) + '.png'\n",
    "        daf_name = 'data_aug_01/' + f_name\n",
    "        cv2.imwrite(daf_name,aug_img)\n",
    "        count_notcar +=1"
   ]
  },
  {
   "cell_type": "code",
   "execution_count": null,
   "metadata": {
    "collapsed": true,
    "deletable": true,
    "editable": true
   },
   "outputs": [],
   "source": [
    "# Read in cars and notcars\n",
    "images = glob.glob('data_base_jpg_short/*.jpeg')\n",
    "\n",
    "for img in images:\n",
    "    image = mpimg.imread(img)\n",
    "    img_name = os.path.splitext(os.path.basename(img))[0]\n",
    "    f_name = img_name + '.png'\n",
    "    daf_name = 'data_base_short/' + f_name\n",
    "    cv2.imwrite(daf_name,image)    "
   ]
  },
  {
   "cell_type": "code",
   "execution_count": null,
   "metadata": {
    "collapsed": true,
    "deletable": true,
    "editable": true
   },
   "outputs": [],
   "source": [
    "def pre_process_image(image):\n",
    "\n",
    "    #image = cv2.cvtColor(image, cv2.COLOR_BGR2YUV)\n",
    "    #image = image[:,:,0]\n",
    "    image[:,:,0] = cv2.equalizeHist(image[:,:,0])\n",
    "    image[:,:,1] = cv2.equalizeHist(image[:,:,1])\n",
    "    image[:,:,2] = cv2.equalizeHist(image[:,:,2])\n",
    "    image = image/255.-.5\n",
    "    #image = cv2.resize(image, (img_resize,img_resize),interpolation = cv2.INTER_CUBIC)\n",
    "\n",
    "    return image\n",
    "\n"
   ]
  },
  {
   "cell_type": "code",
   "execution_count": null,
   "metadata": {
    "collapsed": false
   },
   "outputs": [],
   "source": [
    "input_org = []\n",
    "\n",
    "for imgname in os.listdir(\"./data_base_long/\"):\n",
    "    image_org = cv2.imread('data_base_long/' + imgname)\n",
    "    input_org.append(image_org)\n",
    "\n",
    "    \n",
    "fig, ax = plt.subplots(2,5, sharex=True, figsize=(15,15))    \n",
    "for k, image_pic in enumerate(input_org):\n",
    "    plt.subplot(2,5,k+1) \n",
    "    plt.imshow(image_pic)\n",
    "    plot_title = (k)\n",
    "    plt.title(plot_title )\n",
    "    \n",
    "plt.tight_layout()   \n",
    "plt.show()"
   ]
  },
  {
   "cell_type": "code",
   "execution_count": null,
   "metadata": {
    "collapsed": true
   },
   "outputs": [],
   "source": []
  }
 ],
 "metadata": {
  "kernelspec": {
   "display_name": "Python 3",
   "language": "python",
   "name": "python3"
  },
  "language_info": {
   "codemirror_mode": {
    "name": "ipython",
    "version": 3
   },
   "file_extension": ".py",
   "mimetype": "text/x-python",
   "name": "python",
   "nbconvert_exporter": "python",
   "pygments_lexer": "ipython3",
   "version": "3.5.2"
  },
  "widgets": {
   "state": {},
   "version": "1.1.2"
  }
 },
 "nbformat": 4,
 "nbformat_minor": 2
}
